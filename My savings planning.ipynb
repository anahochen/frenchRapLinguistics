{
 "cells": [
  {
   "cell_type": "markdown",
   "metadata": {},
   "source": [
    "# Optimising my yearly savings planning with PuLP"
   ]
  },
  {
   "cell_type": "markdown",
   "metadata": {},
   "source": [
    "## Importing packages"
   ]
  },
  {
   "cell_type": "code",
   "execution_count": 14,
   "metadata": {},
   "outputs": [],
   "source": [
    "import pulp\n",
    "import pandas as pd\n",
    "import numpy as np"
   ]
  },
  {
   "cell_type": "markdown",
   "metadata": {},
   "source": [
    "## Importing data"
   ]
  },
  {
   "cell_type": "code",
   "execution_count": 41,
   "metadata": {},
   "outputs": [
    {
     "data": {
      "text/html": [
       "<div>\n",
       "<style scoped>\n",
       "    .dataframe tbody tr th:only-of-type {\n",
       "        vertical-align: middle;\n",
       "    }\n",
       "\n",
       "    .dataframe tbody tr th {\n",
       "        vertical-align: top;\n",
       "    }\n",
       "\n",
       "    .dataframe thead th {\n",
       "        text-align: right;\n",
       "    }\n",
       "</style>\n",
       "<table border=\"1\" class=\"dataframe\">\n",
       "  <thead>\n",
       "    <tr style=\"text-align: right;\">\n",
       "      <th></th>\n",
       "      <th>category</th>\n",
       "      <th>target</th>\n",
       "    </tr>\n",
       "  </thead>\n",
       "  <tbody>\n",
       "    <tr>\n",
       "      <td>0</td>\n",
       "      <td>student_loan</td>\n",
       "      <td>1300</td>\n",
       "    </tr>\n",
       "    <tr>\n",
       "      <td>1</td>\n",
       "      <td>drivers_license</td>\n",
       "      <td>700</td>\n",
       "    </tr>\n",
       "    <tr>\n",
       "      <td>2</td>\n",
       "      <td>emergencies</td>\n",
       "      <td>2000</td>\n",
       "    </tr>\n",
       "    <tr>\n",
       "      <td>3</td>\n",
       "      <td>israel</td>\n",
       "      <td>1000</td>\n",
       "    </tr>\n",
       "    <tr>\n",
       "      <td>4</td>\n",
       "      <td>munich</td>\n",
       "      <td>300</td>\n",
       "    </tr>\n",
       "    <tr>\n",
       "      <td>5</td>\n",
       "      <td>peru</td>\n",
       "      <td>1500</td>\n",
       "    </tr>\n",
       "    <tr>\n",
       "      <td>6</td>\n",
       "      <td>estate</td>\n",
       "      <td>7000</td>\n",
       "    </tr>\n",
       "  </tbody>\n",
       "</table>\n",
       "</div>"
      ],
      "text/plain": [
       "          category  target\n",
       "0     student_loan    1300\n",
       "1  drivers_license     700\n",
       "2      emergencies    2000\n",
       "3           israel    1000\n",
       "4           munich     300\n",
       "5             peru    1500\n",
       "6           estate    7000"
      ]
     },
     "execution_count": 41,
     "metadata": {},
     "output_type": "execute_result"
    }
   ],
   "source": [
    "df_savings = pd.read_excel('2020.xlsx', sheet_name = 'savings')\n",
    "df_savings"
   ]
  },
  {
   "cell_type": "code",
   "execution_count": 42,
   "metadata": {},
   "outputs": [
    {
     "data": {
      "text/html": [
       "<div>\n",
       "<style scoped>\n",
       "    .dataframe tbody tr th:only-of-type {\n",
       "        vertical-align: middle;\n",
       "    }\n",
       "\n",
       "    .dataframe tbody tr th {\n",
       "        vertical-align: top;\n",
       "    }\n",
       "\n",
       "    .dataframe thead th {\n",
       "        text-align: right;\n",
       "    }\n",
       "</style>\n",
       "<table border=\"1\" class=\"dataframe\">\n",
       "  <thead>\n",
       "    <tr style=\"text-align: right;\">\n",
       "      <th></th>\n",
       "      <th>expenses</th>\n",
       "      <th>value</th>\n",
       "    </tr>\n",
       "  </thead>\n",
       "  <tbody>\n",
       "    <tr>\n",
       "      <td>0</td>\n",
       "      <td>rent</td>\n",
       "      <td>695</td>\n",
       "    </tr>\n",
       "    <tr>\n",
       "      <td>1</td>\n",
       "      <td>joint_account</td>\n",
       "      <td>500</td>\n",
       "    </tr>\n",
       "    <tr>\n",
       "      <td>2</td>\n",
       "      <td>student_loan</td>\n",
       "      <td>126</td>\n",
       "    </tr>\n",
       "    <tr>\n",
       "      <td>3</td>\n",
       "      <td>services</td>\n",
       "      <td>100</td>\n",
       "    </tr>\n",
       "  </tbody>\n",
       "</table>\n",
       "</div>"
      ],
      "text/plain": [
       "        expenses  value\n",
       "0           rent    695\n",
       "1  joint_account    500\n",
       "2   student_loan    126\n",
       "3       services    100"
      ]
     },
     "execution_count": 42,
     "metadata": {},
     "output_type": "execute_result"
    }
   ],
   "source": [
    "df_expenses = pd.read_excel('2020.xlsx', sheet_name = 'expenses')\n",
    "df_expenses"
   ]
  },
  {
   "cell_type": "markdown",
   "metadata": {},
   "source": [
    "Let's define the time period that covers this problem:"
   ]
  },
  {
   "cell_type": "code",
   "execution_count": 169,
   "metadata": {},
   "outputs": [
    {
     "name": "stdout",
     "output_type": "stream",
     "text": [
      "range(1, 12)\n"
     ]
    }
   ],
   "source": [
    "duration = 12\n",
    "months = range(1,duration)\n",
    "print(months)"
   ]
  },
  {
   "cell_type": "markdown",
   "metadata": {},
   "source": [
    "$$E_m$$ is a vector containing the monthly expenses, which are the sum of the categories. "
   ]
  },
  {
   "cell_type": "code",
   "execution_count": 127,
   "metadata": {},
   "outputs": [
    {
     "name": "stdout",
     "output_type": "stream",
     "text": [
      "Monthly expenses E : [1421, 1421, 1421, 1421, 1421, 1421, 1421, 1421, 1421, 1421, 1421, 1421]\n"
     ]
    }
   ],
   "source": [
    "expenses = list(np.repeat(sum(df_expenses['value']), duration))\n",
    "\n",
    "print('Monthly expenses E : ' + str(expenses))"
   ]
  },
  {
   "cell_type": "code",
   "execution_count": 128,
   "metadata": {},
   "outputs": [
    {
     "name": "stdout",
     "output_type": "stream",
     "text": [
      "Monthly revenue R : [2100, 2100, 2100, 2100, 2100, 2900, 2100, 2100, 2100, 2100, 2100, 4200]\n"
     ]
    }
   ],
   "source": [
    "monthly_salary = 2100\n",
    "revenue = list(np.repeat(monthly_salary, duration))\n",
    "\n",
    "revenue[5]=revenue[5]+800 #participation en mai\n",
    "revenue[11]=revenue[11]*2 #treizieme mois\n",
    "\n",
    "print('Monthly revenue R : ' + str(revenue))"
   ]
  },
  {
   "cell_type": "code",
   "execution_count": 53,
   "metadata": {},
   "outputs": [],
   "source": [
    "s_target = df_savings"
   ]
  },
  {
   "cell_type": "code",
   "execution_count": 49,
   "metadata": {},
   "outputs": [],
   "source": [
    "mysavings = pulp.LpProblem(\"My savings planning\", pulp.LpMaximize)"
   ]
  },
  {
   "cell_type": "markdown",
   "metadata": {},
   "source": [
    "## Defining the decision variables"
   ]
  },
  {
   "cell_type": "markdown",
   "metadata": {},
   "source": [
    "Our goal is to maximise the balance, after deducing the expenses and savings from the initial revenue."
   ]
  },
  {
   "cell_type": "markdown",
   "metadata": {},
   "source": [
    "$$ m $$ represents the number of months over which the savings are planned"
   ]
  },
  {
   "cell_type": "markdown",
   "metadata": {},
   "source": [
    "$$max(B^m) = max(R^m - E^m - D^m - \\sum_jS^m)$$"
   ]
  },
  {
   "cell_type": "markdown",
   "metadata": {},
   "source": [
    "Each of these decision variables will have similar characteristics (lower bound of 0, integer variables). Therefore we can use PuLP’s LpVariable object’s dict functionality in order to characterize them. Other categories of variables include Integer and Binary.\n",
    "Savings are mysavingsled as an integer variable (in order to restrain the problem)."
   ]
  },
  {
   "cell_type": "code",
   "execution_count": 76,
   "metadata": {},
   "outputs": [],
   "source": [
    "# How much money should be allocated each month as savings for each category of savings\n",
    "\n",
    "savings = pulp.LpVariable.dicts(\"Savings\",\n",
    "                                     ((m,j) for m in months for j in s_target.category),\n",
    "                                     lowBound=0,\n",
    "                                     cat='Integer')"
   ]
  },
  {
   "cell_type": "code",
   "execution_count": 77,
   "metadata": {},
   "outputs": [],
   "source": [
    "# How much money should be used each month\n",
    "\n",
    "daily = pulp.LpVariable.dicts(\"Daily expenses\",\n",
    "                                     ((m) for m in months),\n",
    "                                     lowBound=0,\n",
    "                                     cat='Integer')"
   ]
  },
  {
   "cell_type": "markdown",
   "metadata": {},
   "source": [
    "## Building the objective function"
   ]
  },
  {
   "cell_type": "markdown",
   "metadata": {},
   "source": [
    "PuLP provides an lpSum vector calculation for the sum of a list of linear expressions.\n",
    "List comprehensions (in brackets) allow us to scale up the problem to several variables, instead of defining each element of the vector."
   ]
  },
  {
   "cell_type": "code",
   "execution_count": 200,
   "metadata": {},
   "outputs": [],
   "source": [
    "r = [revenue[m] for m in months]      #monthly revenue\n",
    "\n",
    "e = [expenses[m] for m in months] #monthly expenses\n",
    "d = [daily[m] for m in months] #daily expenses\n",
    "\n",
    "s = [savings[m,j] for m in months for j in s_target['category']] #monthly savings per category"
   ]
  },
  {
   "cell_type": "code",
   "execution_count": 201,
   "metadata": {},
   "outputs": [],
   "source": [
    "mysavings = pulp.lpSum(r)- pulp.lpSum(e) - pulp.lpSum(d) - pulp.lpSum(s)"
   ]
  },
  {
   "cell_type": "markdown",
   "metadata": {},
   "source": [
    "## Establishing the problem constraints"
   ]
  },
  {
   "cell_type": "markdown",
   "metadata": {},
   "source": [
    "The main constraint is the revenue. Revenue is (unfortunately) fixed per month in a year but there are bonuses in June and December : "
   ]
  },
  {
   "cell_type": "code",
   "execution_count": null,
   "metadata": {},
   "outputs": [],
   "source": [
    "# Constraints\n",
    "# 350 economy and 500 premium sausages at 0.05 kg\n",
    "mysavings += pulp.lpSum([ing_weight['economy', j] for j in ingredients]) == 350 * 0.05\n",
    "mysavings += pulp.lpSum([ing_weight['premium', j] for j in ingredients]) == 500 * 0.05\n",
    "\n",
    "# Economy has >= 40% pork, premium >= 60% pork\n",
    "mysavings += ing_weight['economy', 'pork'] >= (\n",
    "    0.4 * pulp.lpSum([ing_weight['economy', j] for j in ingredients]))\n",
    "\n",
    "mysavings += ing_weight['premium', 'pork'] >= (\n",
    "    0.6 * pulp.lpSum([ing_weight['premium', j] for j in ingredients]))\n",
    "\n",
    "# Sausages must be <= 25% starch\n",
    "mysavings += ing_weight['economy', 'starch'] <= (\n",
    "    0.25 * pulp.lpSum([ing_weight['economy', j] for j in ingredients]))\n",
    "\n",
    "mysavings += ing_weight['premium', 'starch'] <= (\n",
    "    0.25 * pulp.lpSum([ing_weight['premium', j] for j in ingredients]))\n",
    "\n",
    "# We have at most 30 kg of pork, 20 kg of wheat and 17 kg of starch available\n",
    "mysavings += pulp.lpSum([ing_weight[i, 'pork'] for i in sausage_types]) <= 30\n",
    "mysavings += pulp.lpSum([ing_weight[i, 'wheat'] for i in sausage_types]) <= 20\n",
    "mysavings += pulp.lpSum([ing_weight[i, 'starch'] for i in sausage_types]) <= 17\n",
    "\n",
    "# We have at least 23 kg of pork to use up\n",
    "mysavings += pulp.lpSum([ing_weight[i, 'pork'] for i in sausage_types]) >= 23"
   ]
  },
  {
   "cell_type": "markdown",
   "metadata": {},
   "source": [
    "## Solving the problem !"
   ]
  },
  {
   "cell_type": "code",
   "execution_count": 195,
   "metadata": {},
   "outputs": [
    {
     "ename": "AttributeError",
     "evalue": "'LpAffineExpression' object has no attribute 'status'",
     "output_type": "error",
     "traceback": [
      "\u001b[0;31m---------------------------------------------------------------------------\u001b[0m",
      "\u001b[0;31mAttributeError\u001b[0m                            Traceback (most recent call last)",
      "\u001b[0;32m<ipython-input-195-bad0c199833c>\u001b[0m in \u001b[0;36m<module>\u001b[0;34m\u001b[0m\n\u001b[1;32m      1\u001b[0m \u001b[0;31m# Solve our problem\u001b[0m\u001b[0;34m\u001b[0m\u001b[0;34m\u001b[0m\u001b[0;34m\u001b[0m\u001b[0m\n\u001b[1;32m      2\u001b[0m \u001b[0mmysavings\u001b[0m\u001b[0;34m.\u001b[0m\u001b[0msolve\u001b[0m\u001b[0;34m(\u001b[0m\u001b[0;34m)\u001b[0m\u001b[0;34m\u001b[0m\u001b[0;34m\u001b[0m\u001b[0m\n\u001b[0;32m----> 3\u001b[0;31m \u001b[0mpulp\u001b[0m\u001b[0;34m.\u001b[0m\u001b[0mLpStatus\u001b[0m\u001b[0;34m[\u001b[0m\u001b[0mmysavingsplanning\u001b[0m\u001b[0;34m.\u001b[0m\u001b[0mstatus\u001b[0m\u001b[0;34m]\u001b[0m\u001b[0;34m\u001b[0m\u001b[0;34m\u001b[0m\u001b[0m\n\u001b[0m",
      "\u001b[0;31mAttributeError\u001b[0m: 'LpAffineExpression' object has no attribute 'status'"
     ]
    }
   ],
   "source": [
    "# Solve our problem\n",
    "mysavings.solve()\n",
    "pulp.LpStatus[mysavingsplanning.status]"
   ]
  },
  {
   "cell_type": "markdown",
   "metadata": {},
   "source": [
    "We have also checked the status of the solver, there are 5 status codes:\n",
    "- Not Solved: Status prior to solving the problem.\n",
    "- Optimal: An optimal solution has been found.\n",
    "- Infeasible: There are no feasible solutions (e.g. if you set the constraints x <= 1 and x >=2).\n",
    "- Unbounded: The constraints are not bounded, maximising the solution will tend towards infinity (e.g. if the only constraint was x >= 3).\n",
    "- Undefined: The optimal solution may exist but may not have been found."
   ]
  },
  {
   "cell_type": "markdown",
   "metadata": {},
   "source": [
    "We can use the varValue method to retrieve the values of our variables x and y, and the pulp.value function to view the maximum value of the objective function."
   ]
  },
  {
   "cell_type": "code",
   "execution_count": null,
   "metadata": {},
   "outputs": [],
   "source": [
    "for var in ing_weight:\n",
    "    var_value = ing_weight[var].varValue\n",
    "    print \"The weight of {0} in {1} sausages is {2} kg\".format(var[1], var[0], var_value)"
   ]
  },
  {
   "cell_type": "code",
   "execution_count": null,
   "metadata": {},
   "outputs": [],
   "source": [
    "total_cost = pulp.value(mysavings.objective)\n",
    "\n",
    "print \"The total cost is €{} for 350 economy sausages and 500 premium sausages\".format(round(total_cost, 2))"
   ]
  }
 ],
 "metadata": {
  "kernelspec": {
   "display_name": "Python 3",
   "language": "python",
   "name": "python3"
  },
  "language_info": {
   "codemirror_mode": {
    "name": "ipython",
    "version": 3
   },
   "file_extension": ".py",
   "mimetype": "text/x-python",
   "name": "python",
   "nbconvert_exporter": "python",
   "pygments_lexer": "ipython3",
   "version": "3.7.4"
  }
 },
 "nbformat": 4,
 "nbformat_minor": 2
}
